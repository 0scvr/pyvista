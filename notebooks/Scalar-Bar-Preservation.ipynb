{
 "cells": [
  {
   "cell_type": "markdown",
   "metadata": {},
   "source": [
    "# Scalar Bar Preservation"
   ]
  },
  {
   "cell_type": "code",
   "execution_count": 1,
   "metadata": {},
   "outputs": [],
   "source": [
    "import vtki\n",
    "from vtki import examples"
   ]
  },
  {
   "cell_type": "code",
   "execution_count": 2,
   "metadata": {},
   "outputs": [
    {
     "data": {
      "text/html": [
       "<table><tr><th>Information</th><th>Data Arrays</th></tr><tr><td>\n",
       "<table>\n",
       "<tr><th>vtkImageData</th><th>Values</th></tr>\n",
       "<tr><td>N Cells</td><td>729</td></tr>\n",
       "<tr><td>N Points</td><td>1000</td></tr>\n",
       "<tr><td>X Bounds</td><td>0.000, 9.000</td></tr>\n",
       "<tr><td>Y Bounds</td><td>0.000, 9.000</td></tr>\n",
       "<tr><td>Z Bounds</td><td>0.000, 9.000</td></tr>\n",
       "</table>\n",
       "\n",
       "</td><td>\n",
       "<table>\n",
       "<tr><th>Name</th><th>Field</th><th>Type</th><th>Min</th><th>Max</th></tr>\n",
       "<tr><td><b>Spatial Point Data</b></td><td>Points</td><td>float64</td><td>0.000e+00</td><td>7.290e+02</td></tr>\n",
       "<tr><td>Spatial Cell Data</td><td>Cells</td><td>float64</td><td>0.000e+00</td><td>5.120e+02</td></tr>\n",
       "</table>\n",
       "\n",
       "</td></tr> </table>"
      ],
      "text/plain": [
       "(UniformGrid)0x1192a3348"
      ]
     },
     "execution_count": 2,
     "metadata": {},
     "output_type": "execute_result"
    }
   ],
   "source": [
    "grid = examples.load_uniform()\n",
    "#grid.set_active_scalar('Spatial Point Data')\n",
    "grid"
   ]
  },
  {
   "cell_type": "code",
   "execution_count": 3,
   "metadata": {},
   "outputs": [],
   "source": [
    "# Create the rendering window\n",
    "plotter = vtki.BackgroundPlotter() #Plotter(notebook=False)"
   ]
  },
  {
   "cell_type": "code",
   "execution_count": 28,
   "metadata": {},
   "outputs": [],
   "source": [
    "# Add some features\n",
    "ca = plotter.add_mesh(grid.clip())"
   ]
  },
  {
   "cell_type": "code",
   "execution_count": 17,
   "metadata": {},
   "outputs": [
    {
     "data": {
      "text/plain": [
       "(vtkRenderingAnnotationPython.vtkCubeAxesActor)0x11faae948"
      ]
     },
     "execution_count": 17,
     "metadata": {},
     "output_type": "execute_result"
    }
   ],
   "source": [
    "oa = plotter.add_mesh(grid.outline())\n",
    "plotter.add_bounds_axes()"
   ]
  },
  {
   "cell_type": "code",
   "execution_count": 26,
   "metadata": {},
   "outputs": [
    {
     "name": "stdout",
     "output_type": "stream",
     "text": [
      "slot 0\n"
     ]
    }
   ],
   "source": [
    "plotter.remove_actor(sa)\n",
    "sa = plotter.add_mesh(grid.threshold(250, invert=True), \n",
    "                      scalars='Spatial Cell Data', \n",
    "                      showedges=False,\n",
    "                      colormap='Greys',\n",
    "                      opacity=0.6)"
   ]
  },
  {
   "cell_type": "code",
   "execution_count": 27,
   "metadata": {},
   "outputs": [
    {
     "name": "stdout",
     "output_type": "stream",
     "text": [
      "slot 1\n"
     ]
    }
   ],
   "source": [
    "# Add some contours\n",
    "cta = plotter.add_mesh(grid.contour(), showedges=False)"
   ]
  },
  {
   "cell_type": "code",
   "execution_count": null,
   "metadata": {},
   "outputs": [],
   "source": [
    "# Update the clip \n",
    "plotter.remove_actor(ca)\n",
    "ca = plotter.add_mesh(grid.clip(origin=(6,5,5), normal='-x'), \n",
    "                      opacity=0.5, showedges=False)\n"
   ]
  },
  {
   "cell_type": "code",
   "execution_count": null,
   "metadata": {},
   "outputs": [],
   "source": []
  },
  {
   "cell_type": "code",
   "execution_count": 11,
   "metadata": {},
   "outputs": [
    {
     "data": {
      "text/plain": [
       "{}"
      ]
     },
     "execution_count": 11,
     "metadata": {},
     "output_type": "execute_result"
    }
   ],
   "source": [
    "plotter._scalar_bar_mappers"
   ]
  },
  {
   "cell_type": "code",
   "execution_count": 25,
   "metadata": {},
   "outputs": [],
   "source": [
    "plotter.remove_actor(ca)"
   ]
  },
  {
   "cell_type": "code",
   "execution_count": 24,
   "metadata": {},
   "outputs": [],
   "source": [
    "plotter.remove_actor(cta)"
   ]
  },
  {
   "cell_type": "code",
   "execution_count": 29,
   "metadata": {},
   "outputs": [],
   "source": [
    "plotter.remove_actor(sa)"
   ]
  },
  {
   "cell_type": "code",
   "execution_count": 15,
   "metadata": {},
   "outputs": [],
   "source": [
    "plotter.clear()"
   ]
  },
  {
   "cell_type": "code",
   "execution_count": null,
   "metadata": {},
   "outputs": [],
   "source": []
  }
 ],
 "metadata": {
  "kernelspec": {
   "display_name": "Python [conda env:ogv]",
   "language": "python",
   "name": "conda-env-ogv-py"
  },
  "language_info": {
   "codemirror_mode": {
    "name": "ipython",
    "version": 3
   },
   "file_extension": ".py",
   "mimetype": "text/x-python",
   "name": "python",
   "nbconvert_exporter": "python",
   "pygments_lexer": "ipython3",
   "version": "3.6.5"
  }
 },
 "nbformat": 4,
 "nbformat_minor": 2
}
